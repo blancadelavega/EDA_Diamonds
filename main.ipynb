{
 "cells": [
  {
   "cell_type": "code",
   "execution_count": 1,
   "id": "57dfa8f6",
   "metadata": {},
   "outputs": [],
   "source": [
    "#imports\n",
    "import pandas as pd\n",
    "import numpy as np\n",
    "from scipy.stats import trim_mean \n",
    "from statsmodels import robust     \n",
    "import wquantiles                   \n",
    "\n",
    "import seaborn as sns\n",
    "import matplotlib.pylab as plt"
   ]
  },
  {
   "cell_type": "code",
   "execution_count": 91,
   "id": "638a6142",
   "metadata": {},
   "outputs": [
    {
     "name": "stdout",
     "output_type": "stream",
     "text": [
      "<class 'pandas.core.frame.DataFrame'>\n",
      "RangeIndex: 40455 entries, 0 to 40454\n",
      "Data columns (total 11 columns):\n",
      " #   Column   Non-Null Count  Dtype  \n",
      "---  ------   --------------  -----  \n",
      " 0   price    40455 non-null  int64  \n",
      " 1   carat    40455 non-null  float64\n",
      " 2   city     40455 non-null  object \n",
      " 3   depth    40455 non-null  float64\n",
      " 4   table    40455 non-null  float64\n",
      " 5   x        40455 non-null  float64\n",
      " 6   y        40455 non-null  float64\n",
      " 7   z        40455 non-null  float64\n",
      " 8   cut      40455 non-null  object \n",
      " 9   color    40455 non-null  object \n",
      " 10  clarity  40455 non-null  object \n",
      "dtypes: float64(6), int64(1), object(4)\n",
      "memory usage: 3.4+ MB\n",
      "None\n"
     ]
    },
    {
     "data": {
      "text/html": [
       "<div>\n",
       "<style scoped>\n",
       "    .dataframe tbody tr th:only-of-type {\n",
       "        vertical-align: middle;\n",
       "    }\n",
       "\n",
       "    .dataframe tbody tr th {\n",
       "        vertical-align: top;\n",
       "    }\n",
       "\n",
       "    .dataframe thead th {\n",
       "        text-align: right;\n",
       "    }\n",
       "</style>\n",
       "<table border=\"1\" class=\"dataframe\">\n",
       "  <thead>\n",
       "    <tr style=\"text-align: right;\">\n",
       "      <th></th>\n",
       "      <th>price</th>\n",
       "      <th>carat</th>\n",
       "      <th>city</th>\n",
       "      <th>depth</th>\n",
       "      <th>table</th>\n",
       "      <th>x</th>\n",
       "      <th>y</th>\n",
       "      <th>z</th>\n",
       "      <th>cut</th>\n",
       "      <th>color</th>\n",
       "      <th>clarity</th>\n",
       "    </tr>\n",
       "  </thead>\n",
       "  <tbody>\n",
       "    <tr>\n",
       "      <th>0</th>\n",
       "      <td>4268</td>\n",
       "      <td>1.21</td>\n",
       "      <td>Dubai</td>\n",
       "      <td>62.4</td>\n",
       "      <td>58.0</td>\n",
       "      <td>6.83</td>\n",
       "      <td>6.79</td>\n",
       "      <td>4.25</td>\n",
       "      <td>Premium</td>\n",
       "      <td>J</td>\n",
       "      <td>VS2</td>\n",
       "    </tr>\n",
       "    <tr>\n",
       "      <th>1</th>\n",
       "      <td>505</td>\n",
       "      <td>0.32</td>\n",
       "      <td>Kimberly</td>\n",
       "      <td>63.0</td>\n",
       "      <td>57.0</td>\n",
       "      <td>4.35</td>\n",
       "      <td>4.38</td>\n",
       "      <td>2.75</td>\n",
       "      <td>Very Good</td>\n",
       "      <td>H</td>\n",
       "      <td>VS2</td>\n",
       "    </tr>\n",
       "    <tr>\n",
       "      <th>2</th>\n",
       "      <td>2686</td>\n",
       "      <td>0.71</td>\n",
       "      <td>Las Vegas</td>\n",
       "      <td>65.5</td>\n",
       "      <td>55.0</td>\n",
       "      <td>5.62</td>\n",
       "      <td>5.53</td>\n",
       "      <td>3.65</td>\n",
       "      <td>Fair</td>\n",
       "      <td>G</td>\n",
       "      <td>VS1</td>\n",
       "    </tr>\n",
       "    <tr>\n",
       "      <th>3</th>\n",
       "      <td>738</td>\n",
       "      <td>0.41</td>\n",
       "      <td>Kimberly</td>\n",
       "      <td>63.8</td>\n",
       "      <td>56.0</td>\n",
       "      <td>4.68</td>\n",
       "      <td>4.72</td>\n",
       "      <td>3.00</td>\n",
       "      <td>Good</td>\n",
       "      <td>D</td>\n",
       "      <td>SI1</td>\n",
       "    </tr>\n",
       "    <tr>\n",
       "      <th>4</th>\n",
       "      <td>4882</td>\n",
       "      <td>1.02</td>\n",
       "      <td>Dubai</td>\n",
       "      <td>60.5</td>\n",
       "      <td>59.0</td>\n",
       "      <td>6.55</td>\n",
       "      <td>6.51</td>\n",
       "      <td>3.95</td>\n",
       "      <td>Ideal</td>\n",
       "      <td>G</td>\n",
       "      <td>SI1</td>\n",
       "    </tr>\n",
       "  </tbody>\n",
       "</table>\n",
       "</div>"
      ],
      "text/plain": [
       "   price  carat       city  depth  table     x     y     z        cut color  \\\n",
       "0   4268   1.21      Dubai   62.4   58.0  6.83  6.79  4.25    Premium     J   \n",
       "1    505   0.32   Kimberly   63.0   57.0  4.35  4.38  2.75  Very Good     H   \n",
       "2   2686   0.71  Las Vegas   65.5   55.0  5.62  5.53  3.65       Fair     G   \n",
       "3    738   0.41   Kimberly   63.8   56.0  4.68  4.72  3.00       Good     D   \n",
       "4   4882   1.02      Dubai   60.5   59.0  6.55  6.51  3.95      Ideal     G   \n",
       "\n",
       "  clarity  \n",
       "0     VS2  \n",
       "1     VS2  \n",
       "2     VS1  \n",
       "3     SI1  \n",
       "4     SI1  "
      ]
     },
     "execution_count": 91,
     "metadata": {},
     "output_type": "execute_result"
    }
   ],
   "source": [
    "#Open Data\n",
    "data = pd.read_csv('./data/diamonds_train.csv')\n",
    "print(data.info())\n",
    "data.head()\n"
   ]
  },
  {
   "cell_type": "code",
   "execution_count": 11,
   "id": "8cf44c48",
   "metadata": {},
   "outputs": [
    {
     "data": {
      "text/plain": [
       "price      0\n",
       "carat      0\n",
       "city       0\n",
       "depth      0\n",
       "table      0\n",
       "x          0\n",
       "y          0\n",
       "z          0\n",
       "cut        0\n",
       "color      0\n",
       "clarity    0\n",
       "dtype: int64"
      ]
     },
     "execution_count": 11,
     "metadata": {},
     "output_type": "execute_result"
    }
   ],
   "source": [
    "#Compruebo si mi DF tiene nulos\n",
    "data.isnull().sum()"
   ]
  },
  {
   "cell_type": "markdown",
   "id": "92129b59",
   "metadata": {},
   "source": [
    "## Data Types\n",
    "\n",
    "- __Variables numericas:__\n",
    "    - Continuas: price, carat, depth, table, x, y , z. \n",
    "    - Discretas: n/a\n",
    "\n",
    "\n",
    "- __Variables categoricas:__ \n",
    "    - Nominal: City\n",
    "    - Ordinal: cut, color, clarity\n"
   ]
  },
  {
   "cell_type": "markdown",
   "id": "a7fdd3fd",
   "metadata": {},
   "source": [
    "### Variables numericas"
   ]
  },
  {
   "cell_type": "code",
   "execution_count": 13,
   "id": "5a389b0d",
   "metadata": {},
   "outputs": [
    {
     "data": {
      "text/html": [
       "<div>\n",
       "<style scoped>\n",
       "    .dataframe tbody tr th:only-of-type {\n",
       "        vertical-align: middle;\n",
       "    }\n",
       "\n",
       "    .dataframe tbody tr th {\n",
       "        vertical-align: top;\n",
       "    }\n",
       "\n",
       "    .dataframe thead th {\n",
       "        text-align: right;\n",
       "    }\n",
       "</style>\n",
       "<table border=\"1\" class=\"dataframe\">\n",
       "  <thead>\n",
       "    <tr style=\"text-align: right;\">\n",
       "      <th></th>\n",
       "      <th>price</th>\n",
       "      <th>carat</th>\n",
       "      <th>depth</th>\n",
       "      <th>table</th>\n",
       "      <th>x</th>\n",
       "      <th>y</th>\n",
       "      <th>z</th>\n",
       "    </tr>\n",
       "  </thead>\n",
       "  <tbody>\n",
       "    <tr>\n",
       "      <th>count</th>\n",
       "      <td>40455.000000</td>\n",
       "      <td>40455.000000</td>\n",
       "      <td>40455.000000</td>\n",
       "      <td>40455.000000</td>\n",
       "      <td>40455.000000</td>\n",
       "      <td>40455.000000</td>\n",
       "      <td>40455.000000</td>\n",
       "    </tr>\n",
       "    <tr>\n",
       "      <th>mean</th>\n",
       "      <td>3928.444469</td>\n",
       "      <td>0.797706</td>\n",
       "      <td>61.752841</td>\n",
       "      <td>57.446133</td>\n",
       "      <td>5.729392</td>\n",
       "      <td>5.732819</td>\n",
       "      <td>3.537154</td>\n",
       "    </tr>\n",
       "    <tr>\n",
       "      <th>std</th>\n",
       "      <td>3992.416147</td>\n",
       "      <td>0.475544</td>\n",
       "      <td>1.431725</td>\n",
       "      <td>2.233535</td>\n",
       "      <td>1.124453</td>\n",
       "      <td>1.146650</td>\n",
       "      <td>0.697062</td>\n",
       "    </tr>\n",
       "    <tr>\n",
       "      <th>min</th>\n",
       "      <td>326.000000</td>\n",
       "      <td>0.200000</td>\n",
       "      <td>43.000000</td>\n",
       "      <td>43.000000</td>\n",
       "      <td>0.000000</td>\n",
       "      <td>0.000000</td>\n",
       "      <td>0.000000</td>\n",
       "    </tr>\n",
       "    <tr>\n",
       "      <th>25%</th>\n",
       "      <td>945.000000</td>\n",
       "      <td>0.400000</td>\n",
       "      <td>61.000000</td>\n",
       "      <td>56.000000</td>\n",
       "      <td>4.710000</td>\n",
       "      <td>4.720000</td>\n",
       "      <td>2.910000</td>\n",
       "    </tr>\n",
       "    <tr>\n",
       "      <th>50%</th>\n",
       "      <td>2397.000000</td>\n",
       "      <td>0.700000</td>\n",
       "      <td>61.800000</td>\n",
       "      <td>57.000000</td>\n",
       "      <td>5.690000</td>\n",
       "      <td>5.710000</td>\n",
       "      <td>3.520000</td>\n",
       "    </tr>\n",
       "    <tr>\n",
       "      <th>75%</th>\n",
       "      <td>5331.000000</td>\n",
       "      <td>1.040000</td>\n",
       "      <td>62.500000</td>\n",
       "      <td>59.000000</td>\n",
       "      <td>6.540000</td>\n",
       "      <td>6.540000</td>\n",
       "      <td>4.035000</td>\n",
       "    </tr>\n",
       "    <tr>\n",
       "      <th>max</th>\n",
       "      <td>18823.000000</td>\n",
       "      <td>4.500000</td>\n",
       "      <td>79.000000</td>\n",
       "      <td>95.000000</td>\n",
       "      <td>10.230000</td>\n",
       "      <td>58.900000</td>\n",
       "      <td>8.060000</td>\n",
       "    </tr>\n",
       "  </tbody>\n",
       "</table>\n",
       "</div>"
      ],
      "text/plain": [
       "              price         carat         depth         table             x  \\\n",
       "count  40455.000000  40455.000000  40455.000000  40455.000000  40455.000000   \n",
       "mean    3928.444469      0.797706     61.752841     57.446133      5.729392   \n",
       "std     3992.416147      0.475544      1.431725      2.233535      1.124453   \n",
       "min      326.000000      0.200000     43.000000     43.000000      0.000000   \n",
       "25%      945.000000      0.400000     61.000000     56.000000      4.710000   \n",
       "50%     2397.000000      0.700000     61.800000     57.000000      5.690000   \n",
       "75%     5331.000000      1.040000     62.500000     59.000000      6.540000   \n",
       "max    18823.000000      4.500000     79.000000     95.000000     10.230000   \n",
       "\n",
       "                  y             z  \n",
       "count  40455.000000  40455.000000  \n",
       "mean       5.732819      3.537154  \n",
       "std        1.146650      0.697062  \n",
       "min        0.000000      0.000000  \n",
       "25%        4.720000      2.910000  \n",
       "50%        5.710000      3.520000  \n",
       "75%        6.540000      4.035000  \n",
       "max       58.900000      8.060000  "
      ]
     },
     "execution_count": 13,
     "metadata": {},
     "output_type": "execute_result"
    }
   ],
   "source": [
    "data.describe()"
   ]
  },
  {
   "cell_type": "markdown",
   "id": "1fe07f86",
   "metadata": {},
   "source": [
    "#### Varibale Price\n",
    "**price as p"
   ]
  },
  {
   "cell_type": "code",
   "execution_count": 17,
   "id": "b5a105c8",
   "metadata": {},
   "outputs": [
    {
     "name": "stdout",
     "output_type": "stream",
     "text": [
      "Mean of price: 3928.444469163268\n"
     ]
    }
   ],
   "source": [
    "# Mean\n",
    "mean_p = data['price'].mean()\n",
    "print('Mean of price:', mean_p)"
   ]
  },
  {
   "cell_type": "code",
   "execution_count": 18,
   "id": "8c67fe1c",
   "metadata": {},
   "outputs": [
    {
     "name": "stdout",
     "output_type": "stream",
     "text": [
      "Trimmed mean of price 3153.22252433184\n"
     ]
    }
   ],
   "source": [
    "# Trimmed mean \n",
    "tmean_p = trim_mean(data['price'], 0.1)\n",
    "print('Trimmed mean of price', tmean_p)"
   ]
  },
  {
   "cell_type": "code",
   "execution_count": 31,
   "id": "23c162fc",
   "metadata": {},
   "outputs": [],
   "source": [
    "##Comparando medias = hay valores extremos"
   ]
  },
  {
   "cell_type": "code",
   "execution_count": 19,
   "id": "93694185",
   "metadata": {},
   "outputs": [
    {
     "name": "stdout",
     "output_type": "stream",
     "text": [
      "Median of price: 2397.0\n"
     ]
    }
   ],
   "source": [
    "# Median\n",
    "median_p = data['price'].median()\n",
    "print('Median of price:', median_p)"
   ]
  },
  {
   "cell_type": "code",
   "execution_count": null,
   "id": "c513ace7",
   "metadata": {},
   "outputs": [],
   "source": [
    "##Hay valores extremos por arriba"
   ]
  },
  {
   "cell_type": "code",
   "execution_count": 26,
   "id": "e1a1cabc",
   "metadata": {},
   "outputs": [
    {
     "name": "stdout",
     "output_type": "stream",
     "text": [
      "Price deviation -7.043126970529556e-09\n"
     ]
    }
   ],
   "source": [
    "#Desviation\n",
    "dev_p = data['price'].mean() - data['price']\n",
    "dev_P\n",
    "print('Price deviation', dev_p.sum())"
   ]
  },
  {
   "cell_type": "code",
   "execution_count": 30,
   "id": "ad242421",
   "metadata": {},
   "outputs": [
    {
     "name": "stdout",
     "output_type": "stream",
     "text": [
      "Price deviation: 3034.0658933710733\n"
     ]
    }
   ],
   "source": [
    "#Mean absolute deviation\n",
    "mean_dev_p = abs(data['price'].mean() - data['price'])\n",
    "mean_dev_p\n",
    "print('Price deviation:', mean_dev_p.sum() / len(mean_dev_p))"
   ]
  },
  {
   "cell_type": "code",
   "execution_count": 35,
   "id": "9d71af7b",
   "metadata": {},
   "outputs": [
    {
     "name": "stdout",
     "output_type": "stream",
     "text": [
      "Variance of price: 15939386.687768824\n"
     ]
    }
   ],
   "source": [
    "#Variance \n",
    "var_p = (data['price'].mean() - data['price'])**2\n",
    "variance_p = var_p.sum() / (len(var_p) - 1)\n",
    "print('Variance of price:', variance_p)\n"
   ]
  },
  {
   "cell_type": "code",
   "execution_count": 36,
   "id": "34f98f86",
   "metadata": {},
   "outputs": [
    {
     "name": "stdout",
     "output_type": "stream",
     "text": [
      "Standard deviation price: 3992.4161466170613\n"
     ]
    }
   ],
   "source": [
    "# Standard deviation\n",
    "std_dev_p = data['price'].std()\n",
    "print('Standard deviation price:', std_dev_p)"
   ]
  },
  {
   "cell_type": "code",
   "execution_count": 37,
   "id": "9b8ef425",
   "metadata": {},
   "outputs": [],
   "source": [
    "##=Los datos están muy dispersos"
   ]
  },
  {
   "cell_type": "code",
   "execution_count": 42,
   "id": "22d70d87",
   "metadata": {},
   "outputs": [
    {
     "name": "stdout",
     "output_type": "stream",
     "text": [
      "Max price: 18823 \n",
      "Min price: 326\n"
     ]
    }
   ],
   "source": [
    "#Min & Max\n",
    "min_p = data['price'].min()\n",
    "max_p = data['price'].max()\n",
    "print('Max price:', max_p, '\\nMin price:', min_p)"
   ]
  },
  {
   "cell_type": "code",
   "execution_count": 38,
   "id": "79b0fede",
   "metadata": {},
   "outputs": [
    {
     "name": "stdout",
     "output_type": "stream",
     "text": [
      "Price range: 18497\n"
     ]
    }
   ],
   "source": [
    "# Range\n",
    "p_range = data['price'].max() - data['price'].min()\n",
    "print('Price range:', p_range)"
   ]
  },
  {
   "cell_type": "code",
   "execution_count": 40,
   "id": "47d06414",
   "metadata": {},
   "outputs": [
    {
     "name": "stdout",
     "output_type": "stream",
     "text": [
      "Percentile 75th: 5331.0 \n",
      "Percentile 25th: 945.0 \n",
      "Percentile 50th: 2397.0\n"
     ]
    }
   ],
   "source": [
    "# Percentiles \n",
    "per_75 = data['price'].quantile(0.75)\n",
    "per_25 = data['price'].quantile(0.25)\n",
    "per_50 = data['price'].quantile(0.50)  \n",
    "print('Percentile 75th:', per_75, '\\nPercentile 25th:', per_25, '\\nPercentile 50th:', per_50)"
   ]
  },
  {
   "cell_type": "code",
   "execution_count": 41,
   "id": "aa8d1e6f",
   "metadata": {},
   "outputs": [
    {
     "name": "stdout",
     "output_type": "stream",
     "text": [
      "Interquartile range: 4386.0\n"
     ]
    }
   ],
   "source": [
    "# Interquartile range\n",
    "iqr = per_75 - per_25\n",
    "print('Interquartile range:', iqr)"
   ]
  },
  {
   "cell_type": "code",
   "execution_count": 44,
   "id": "e79d6b2c",
   "metadata": {},
   "outputs": [
    {
     "data": {
      "text/html": [
       "<div>\n",
       "<style scoped>\n",
       "    .dataframe tbody tr th:only-of-type {\n",
       "        vertical-align: middle;\n",
       "    }\n",
       "\n",
       "    .dataframe tbody tr th {\n",
       "        vertical-align: top;\n",
       "    }\n",
       "\n",
       "    .dataframe thead th {\n",
       "        text-align: right;\n",
       "    }\n",
       "</style>\n",
       "<table border=\"1\" class=\"dataframe\">\n",
       "  <thead>\n",
       "    <tr style=\"text-align: right;\">\n",
       "      <th></th>\n",
       "      <th>5%</th>\n",
       "      <th>25%</th>\n",
       "      <th>50%</th>\n",
       "      <th>75%</th>\n",
       "      <th>95%</th>\n",
       "    </tr>\n",
       "  </thead>\n",
       "  <tbody>\n",
       "    <tr>\n",
       "      <th>price</th>\n",
       "      <td>544.0</td>\n",
       "      <td>945.0</td>\n",
       "      <td>2397.0</td>\n",
       "      <td>5331.0</td>\n",
       "      <td>13132.0</td>\n",
       "    </tr>\n",
       "  </tbody>\n",
       "</table>\n",
       "</div>"
      ],
      "text/plain": [
       "          5%    25%     50%     75%      95%\n",
       "price  544.0  945.0  2397.0  5331.0  13132.0"
      ]
     },
     "execution_count": 44,
     "metadata": {},
     "output_type": "execute_result"
    }
   ],
   "source": [
    "# Percentiles table (equal-count bins)\n",
    "\n",
    "percentages = [0.05, 0.25, 0.5, 0.75, 0.95]\n",
    "percentiles = data['price'].quantile(percentages)\n",
    "df = pd.DataFrame(percentiles)\n",
    "df.index = [f'{int(p * 100)}%' for p in percentages]\n",
    "df.transpose()"
   ]
  },
  {
   "cell_type": "code",
   "execution_count": 99,
   "id": "a27eb68f",
   "metadata": {},
   "outputs": [
    {
     "data": {
      "image/png": "[encoded data removed]",
      "text/plain": [
       "<Figure size 400x600 with 1 Axes>"
      ]
     },
     "metadata": {},
     "output_type": "display_data"
    }
   ],
   "source": [
    "# Boxplot (Matplotlib whiskers implementation = 1.5 IQR)\n",
    "\n",
    "data_p = data['price']\n",
    "ax = data_p.plot.box(figsize=(4, 6))\n",
    "plt.tight_layout()\n",
    "plt.grid()\n",
    "plt.show()"
   ]
  },
  {
   "cell_type": "code",
   "execution_count": 76,
   "id": "3f4d883a",
   "metadata": {},
   "outputs": [
    {
     "data": {
      "image/png": "[encoded data removed]",
      "text/plain": [
       "<Figure size 1200x800 with 1 Axes>"
      ]
     },
     "metadata": {},
     "output_type": "display_data"
    }
   ],
   "source": [
    "# Histogram\n",
    "data_p = data['price']\n",
    "ax = data_p.plot.hist(figsize=(12, 8))\n",
    "#ax.set_xlabel('Population (millions)')\n",
    "plt.tight_layout()"
   ]
  },
  {
   "cell_type": "code",
   "execution_count": 89,
   "id": "7e662d73",
   "metadata": {},
   "outputs": [
    {
     "data": {
      "image/png": "[encoded data removed]",
      "text/plain": [
       "<Figure size 1200x800 with 1 Axes>"
      ]
     },
     "metadata": {},
     "output_type": "display_data"
    }
   ],
   "source": [
    "ax = data_p.plot.hist(density=True,\n",
    "                    xlim=[0, 20000], \n",
    "                    figsize=(12, 8))\n",
    "data_p.plot.density(ax=ax)\n",
    "plt.tight_layout()"
   ]
  },
  {
   "cell_type": "markdown",
   "id": "b2c0447d",
   "metadata": {},
   "source": [
    "#### Variable carat"
   ]
  },
  {
   "cell_type": "code",
   "execution_count": 21,
   "id": "6ebf2ca1",
   "metadata": {},
   "outputs": [
    {
     "name": "stdout",
     "output_type": "stream",
     "text": [
      "Mean of carat: 0.7977055988134963\n"
     ]
    }
   ],
   "source": [
    "# Mean\n",
    "mean_carat = data['carat'].mean()\n",
    "print('Mean of carat:', mean_carat)"
   ]
  },
  {
   "cell_type": "code",
   "execution_count": 22,
   "id": "61cec3f1",
   "metadata": {},
   "outputs": [
    {
     "name": "stdout",
     "output_type": "stream",
     "text": [
      "Trimmed mean of carat 0.7341171018075081\n"
     ]
    }
   ],
   "source": [
    "# Trimmed mean \n",
    "tmean_carat = trim_mean(data['carat'], 0.1)\n",
    "print('Trimmed mean of carat', tmean_carat)"
   ]
  },
  {
   "cell_type": "code",
   "execution_count": 23,
   "id": "9b93b7a0",
   "metadata": {},
   "outputs": [
    {
     "name": "stdout",
     "output_type": "stream",
     "text": [
      "Median of carat: 0.7\n"
     ]
    }
   ],
   "source": [
    "# Median\n",
    "median_carat = data['carat'].median()\n",
    "print('Median of carat:', median_carat)"
   ]
  },
  {
   "cell_type": "code",
   "execution_count": null,
   "id": "9eeb6eab",
   "metadata": {},
   "outputs": [],
   "source": []
  },
  {
   "cell_type": "code",
   "execution_count": null,
   "id": "553d94f5",
   "metadata": {},
   "outputs": [],
   "source": []
  }
 ],
 "metadata": {
  "kernelspec": {
   "display_name": "Python [conda env:m2_env]",
   "language": "python",
   "name": "conda-env-m2_env-py"
  },
  "language_info": {
   "codemirror_mode": {
    "name": "ipython",
    "version": 3
   },
   "file_extension": ".py",
   "mimetype": "text/x-python",
   "name": "python",
   "nbconvert_exporter": "python",
   "pygments_lexer": "ipython3",
   "version": "3.10.15"
  }
 },
 "nbformat": 4,
 "nbformat_minor": 5
}
